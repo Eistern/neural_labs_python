{
  "nbformat": 4,
  "nbformat_minor": 0,
  "metadata": {
    "colab": {
      "name": "neural_lab2.ipynb",
      "provenance": [],
      "collapsed_sections": []
    },
    "kernelspec": {
      "name": "python3",
      "display_name": "Python 3"
    },
    "language_info": {
      "name": "python"
    }
  },
  "cells": [
    {
      "cell_type": "code",
      "source": [
        "from google.colab import drive\n",
        "drive.mount('/content/drive')"
      ],
      "metadata": {
        "colab": {
          "base_uri": "https://localhost:8080/"
        },
        "id": "ACFbeMVovhUS",
        "outputId": "62a374f4-f66e-4773-ad93-1a8e6f41a856"
      },
      "execution_count": 2,
      "outputs": [
        {
          "output_type": "stream",
          "name": "stdout",
          "text": [
            "Mounted at /content/drive\n"
          ]
        }
      ]
    },
    {
      "cell_type": "code",
      "source": [
        "import pandas as pd\n",
        "import numpy as np\n",
        "df=pd.read_csv('/content/drive/MyDrive/Dataset/water-treatment.data', sep=',',header=None).to_numpy()\n",
        "df.shape"
      ],
      "metadata": {
        "colab": {
          "base_uri": "https://localhost:8080/"
        },
        "id": "XYHH7M6ljdEQ",
        "outputId": "8129ac9e-51ef-4a10-bcc3-536db2b3e9a6"
      },
      "execution_count": 3,
      "outputs": [
        {
          "output_type": "execute_result",
          "data": {
            "text/plain": [
              "(527, 39)"
            ]
          },
          "metadata": {},
          "execution_count": 3
        }
      ]
    },
    {
      "cell_type": "code",
      "source": [
        "# Clear data\n",
        "df = np.delete(df, 0, 1)\n",
        "\n",
        "df[df == '?'] = '0.0'\n",
        "df = df.astype(float)\n",
        "\n",
        "df"
      ],
      "metadata": {
        "colab": {
          "base_uri": "https://localhost:8080/"
        },
        "id": "elU5W7LN3zX8",
        "outputId": "754bba95-6d6a-4e10-af5e-4d92e0437971"
      },
      "execution_count": 4,
      "outputs": [
        {
          "output_type": "execute_result",
          "data": {
            "text/plain": [
              "array([[4.4101e+04, 1.5000e+00, 7.8000e+00, ..., 7.9400e+01, 8.7300e+01,\n",
              "        9.9600e+01],\n",
              "       [3.9024e+04, 3.0000e+00, 7.7000e+00, ..., 7.9500e+01, 9.2100e+01,\n",
              "        1.0000e+02],\n",
              "       [3.2229e+04, 5.0000e+00, 7.6000e+00, ..., 7.5800e+01, 8.8700e+01,\n",
              "        9.8500e+01],\n",
              "       ...,\n",
              "       [3.2922e+04, 3.0000e-01, 7.4000e+00, ..., 7.7100e+01, 8.8900e+01,\n",
              "        9.9000e+01],\n",
              "       [3.2190e+04, 3.0000e-01, 7.3000e+00, ..., 8.7000e+01, 8.9500e+01,\n",
              "        9.9800e+01],\n",
              "       [3.0488e+04, 2.1000e-01, 7.5000e+00, ..., 8.1700e+01, 8.6400e+01,\n",
              "        0.0000e+00]])"
            ]
          },
          "metadata": {},
          "execution_count": 4
        }
      ]
    },
    {
      "cell_type": "code",
      "source": [
        "def distance(p1, p2):\n",
        "    return math.sqrt(np.sum((p1 - p2)**2))"
      ],
      "metadata": {
        "id": "D_hZw_ewsYFd"
      },
      "execution_count": 5,
      "outputs": []
    },
    {
      "cell_type": "code",
      "source": [
        "## k-means++\n",
        "import random as rd\n",
        "import math\n",
        "\n",
        "def calculate_centroid_distance(item, centroids):\n",
        "    d = float(\"inf\")\n",
        "    for j in range(len(centroids)):\n",
        "        tmp = distance(item, centroids[j])\n",
        "        d = min(d, tmp)\n",
        "    return d\n",
        "\n",
        "# Init centroids\n",
        "def initialize(data, k):\n",
        "    centroids = []\n",
        "    row_size = data.shape[0]\n",
        "    centroids.append(data[np.random.randint(row_size), :])\n",
        "\n",
        "    for centroid in range(k - 1):\n",
        "        centroids_dist = []\n",
        "        for row in range(row_size):\n",
        "            centroids_dist.append(\n",
        "                calculate_centroid_distance(\n",
        "                    data[row, :],\n",
        "                    centroids\n",
        "                )\n",
        "            )\n",
        "\n",
        "        centroids_dist = np.array(centroids_dist)\n",
        "        centroids.append(data[np.argmax(centroids_dist), :])\n",
        "    return centroids\n",
        "\n",
        "# Move centroid\n",
        "def update_centroids_mean(n, centroids, item):\n",
        "    for i in range(len(centroids)):\n",
        "        m = centroids[i]\n",
        "        m = (m*(n-1)+item[i])/float(n)\n",
        "        centroids[i] = round(m, 3)\n",
        "\n",
        "    return centroids\n",
        "\n",
        "# Classify an item with given centroids\n",
        "def classify_item(centroids, item):\n",
        "    distanses = np.array([distance(item, c) for c in centroids])\n",
        "    return distanses.argmin()\n",
        "\n",
        "# Run k-means++ algorithm\n",
        "def fit_centroids(k, items):\n",
        "    item_cluster = [0] * len(items)\n",
        "\n",
        "    centroids = initialize(items, k)\n",
        "    clusters_width = [0]*len(centroids)\n",
        "\n",
        "    round_number = 0\n",
        "    is_cluster_changed = True\n",
        "\n",
        "    while round_number < 10000 and is_cluster_changed:\n",
        "        for i in range(len(items)):\n",
        "            cluster_idx = classify_item(centroids, items[i])\n",
        "\n",
        "            clusters_width[cluster_idx] += 1\n",
        "            centroids[cluster_idx] = update_centroids_mean(\n",
        "                clusters_width[cluster_idx],\n",
        "                centroids[cluster_idx],\n",
        "                items[i]\n",
        "            )\n",
        "\n",
        "            if cluster_idx != item_cluster[i]:\n",
        "                is_cluster_changed = False\n",
        "            item_cluster[i] = cluster_idx\n",
        "        round_number = round_number + 1\n",
        "\n",
        "    return centroids\n",
        "\n",
        "def divide_into_clusters(centroids, items):\n",
        "    clusters = [[] for _ in range(len(centroids))]\n",
        "\n",
        "    for item in items:\n",
        "        index = classify_item(centroids, item)\n",
        "        clusters[index].append(item)\n",
        "\n",
        "    return clusters\n",
        "\n",
        "centroids_final = fit_centroids(2, df)\n",
        "cluters = divide_into_clusters(centroids_final, df)"
      ],
      "metadata": {
        "id": "8ShUDI7lj2KE"
      },
      "execution_count": 6,
      "outputs": []
    },
    {
      "cell_type": "code",
      "source": [
        "import matplotlib.pyplot as plt\n",
        "plt.scatter(np.array(cluters[0])[:,3] , np.array(cluters[0])[:,4] , color = 'red')\n",
        "plt.scatter(np.array(cluters[1])[:,3] , np.array(cluters[1])[:,4] , color = 'black')\n",
        "\n",
        "plt.show()"
      ],
      "metadata": {
        "colab": {
          "base_uri": "https://localhost:8080/",
          "height": 265
        },
        "id": "bQ3mnag6mBNL",
        "outputId": "3f66876b-a13e-44af-b6d7-d0a74c16d63f"
      },
      "execution_count": 7,
      "outputs": [
        {
          "output_type": "display_data",
          "data": {
            "text/plain": [
              "<Figure size 432x288 with 1 Axes>"
            ],
            "image/png": "[encoded data removed]"
          },
          "metadata": {
            "needs_background": "light"
          }
        }
      ]
    },
    {
      "cell_type": "code",
      "source": [
        "plt.clf()\n",
        "plt.scatter(np.array(cluters[0])[:,0] , np.array(cluters[0])[:,2] , color = 'red')\n",
        "plt.scatter(np.array(cluters[1])[:,0] , np.array(cluters[1])[:,2] , color = 'black')\n",
        "\n",
        "plt.show()"
      ],
      "metadata": {
        "id": "ty6UKTkfmmxs",
        "colab": {
          "base_uri": "https://localhost:8080/",
          "height": 265
        },
        "outputId": "974fd174-0861-41e2-8658-b13a920c4d65"
      },
      "execution_count": 8,
      "outputs": [
        {
          "output_type": "display_data",
          "data": {
            "text/plain": [
              "<Figure size 432x288 with 1 Axes>"
            ],
            "image/png": "[encoded data removed]"
          },
          "metadata": {
            "needs_background": "light"
          }
        }
      ]
    },
    {
      "cell_type": "code",
      "source": [
        "# dbscan\n",
        "\n",
        "# Find epsilon region of element 'p'. \n",
        "# Returns a boolean mask where elements in region of 'p' is labeled with True  \n",
        "def region_query (p, eps, X):\n",
        "    _, dim = X.shape\n",
        "    assert (p.shape == (dim,)) or (p.shape == (1, dim)) or (p.shape == (dim, 1))\n",
        "    \n",
        "    region = []\n",
        "    for index in range(len(X)):\n",
        "      region.append(False)\n",
        "\n",
        "    for index in range(len(X)):\n",
        "      d = distance(X[index], p)\n",
        "      if d <= eps:\n",
        "        region[index] = True\n",
        "\n",
        "    return np.array(region)\n",
        "\n",
        "# Returns an array with indiexes of neighbors by the given mask 'y'\n",
        "def index_set (y):\n",
        "    assert len (y.shape) == 1\n",
        "\n",
        "    true_indexes = set()\n",
        "\n",
        "    for neighbor_index in range(len(y)):\n",
        "      if y[neighbor_index] == True:\n",
        "        true_indexes.add(neighbor_index)\n",
        "        \n",
        "    return true_indexes\n",
        "\n",
        "# Reurns an array of neighbors for all elements in dataset\n",
        "def find_neighbors (eps, X):\n",
        "    m, d = X.shape\n",
        "    neighbors = []\n",
        "    \n",
        "    for index in range(len(X)):\n",
        "        neighbors.append(set())\n",
        "    \n",
        "    for index in range(len(X)):\n",
        "        element_region = region_query(X[index], eps, X)\n",
        "        element_neighbors = index_set(element_region)\n",
        "        neighbors[index] = element_neighbors\n",
        "\n",
        "    assert len (neighbors) == m\n",
        "    return neighbors\n",
        "\n",
        "# Returns a set of indices of core points in dataset\n",
        "def find_core_points (s, neighbors):\n",
        "    assert type (neighbors) is list\n",
        "    assert all ([type (n) is set for n in neighbors])\n",
        "    \n",
        "    core_set = set ()\n",
        "    \n",
        "    for index in range(len(neighbors)):\n",
        "      if len(neighbors[index]) >= s:\n",
        "        core_set.add(index)\n",
        "\n",
        "    return core_set\n",
        "\n",
        "# Traverse all dataset and divide it into classes\n",
        "def expand_cluster (p, neighbors, core_set, visited, assignment):\n",
        "    assert (p in core_set) and (p in visited) and (p in assignment)\n",
        "    \n",
        "    reachable = set (neighbors[p])\n",
        "    while reachable:\n",
        "        q = reachable.pop ()\n",
        "\n",
        "        if q in visited:\n",
        "          continue\n",
        "        \n",
        "        if q not in visited:\n",
        "          assignment[q] = assignment[p]\n",
        "          \n",
        "        if q not in visited:\n",
        "          visited.add(q)\n",
        "\n",
        "        if q in core_set:\n",
        "          reachable |= neighbors[q]\n",
        "\n",
        "# Run dbscan algorithm\n",
        "def dbscan (eps, s, X):\n",
        "    clusters = []\n",
        "    point_to_cluster = {}\n",
        "    \n",
        "    neighbors = find_neighbors (eps, X)\n",
        "\n",
        "    core_set = find_core_points (s, neighbors)\n",
        "    \n",
        "    assignment = {}\n",
        "    next_cluster_id = 0\n",
        "\n",
        "    visited = set ()\n",
        "    for i in core_set:\n",
        "        if i not in visited:\n",
        "            visited.add (i)\n",
        "            assignment[i] = next_cluster_id\n",
        "            expand_cluster (i, neighbors, core_set,\n",
        "                            visited, assignment)\n",
        "            next_cluster_id += 1\n",
        "\n",
        "    print('Number of clusters:')\n",
        "    print(next_cluster_id)\n",
        "\n",
        "    return assignment, core_set\n",
        "\n",
        "assignment, core_set = dbscan (6000, 13, df)\n",
        "print(assignment)\n",
        "print(core_set)"
      ],
      "metadata": {
        "id": "GFfkV8VHO1pA",
        "colab": {
          "base_uri": "https://localhost:8080/"
        },
        "outputId": "5b89a501-7b86-4d14-ccb4-ed1dd9826399"
      },
      "execution_count": 9,
      "outputs": [
        {
          "output_type": "stream",
          "name": "stdout",
          "text": [
            "Number of clusters:\n",
            "2\n",
            "{0: 0, 1: 0, 3: 0, 4: 0, 5: 0, 6: 0, 7: 0, 9: 0, 10: 0, 11: 0, 12: 0, 13: 0, 14: 0, 15: 0, 16: 0, 17: 0, 18: 0, 19: 0, 20: 0, 21: 0, 22: 0, 23: 0, 24: 0, 25: 0, 26: 0, 27: 0, 29: 0, 30: 0, 31: 0, 32: 0, 33: 0, 34: 0, 35: 0, 36: 0, 37: 0, 38: 0, 39: 0, 40: 0, 41: 0, 42: 0, 43: 0, 44: 0, 45: 0, 46: 0, 47: 0, 48: 0, 49: 0, 50: 0, 51: 0, 52: 0, 53: 0, 54: 0, 55: 0, 56: 0, 57: 0, 58: 0, 59: 0, 60: 0, 61: 0, 62: 0, 63: 0, 64: 0, 65: 0, 66: 0, 67: 0, 68: 0, 69: 0, 70: 0, 71: 0, 72: 0, 73: 0, 74: 0, 75: 0, 76: 0, 77: 0, 78: 0, 79: 0, 80: 0, 81: 0, 82: 0, 83: 0, 84: 0, 85: 0, 86: 0, 87: 0, 88: 0, 89: 0, 90: 0, 91: 0, 92: 0, 93: 0, 94: 0, 95: 0, 96: 0, 97: 0, 98: 0, 99: 0, 100: 0, 101: 0, 102: 0, 103: 0, 104: 0, 105: 0, 106: 0, 107: 0, 108: 0, 109: 0, 110: 0, 111: 0, 112: 0, 113: 0, 114: 0, 115: 0, 116: 0, 117: 0, 118: 0, 119: 0, 120: 0, 121: 0, 122: 0, 123: 0, 124: 0, 125: 0, 126: 0, 127: 0, 128: 0, 129: 0, 130: 0, 131: 0, 132: 0, 133: 0, 134: 0, 135: 0, 136: 0, 137: 0, 138: 0, 139: 0, 140: 0, 141: 0, 142: 0, 143: 0, 144: 0, 145: 0, 146: 0, 147: 0, 148: 0, 149: 0, 150: 0, 151: 0, 152: 0, 153: 0, 154: 0, 155: 0, 156: 0, 157: 0, 158: 0, 159: 0, 160: 0, 161: 0, 162: 0, 163: 0, 164: 0, 165: 0, 166: 0, 167: 0, 168: 0, 169: 0, 170: 0, 171: 0, 172: 0, 173: 0, 174: 0, 175: 0, 176: 0, 177: 0, 178: 0, 179: 0, 180: 0, 181: 0, 182: 0, 183: 0, 184: 0, 185: 0, 186: 0, 188: 0, 189: 0, 190: 0, 191: 0, 192: 0, 193: 0, 194: 0, 195: 0, 196: 0, 197: 0, 198: 0, 199: 0, 200: 0, 202: 0, 203: 0, 204: 0, 205: 0, 206: 0, 207: 0, 208: 0, 209: 0, 210: 0, 211: 0, 212: 0, 213: 0, 214: 0, 215: 0, 216: 0, 217: 0, 218: 0, 219: 0, 220: 0, 221: 0, 222: 0, 223: 0, 224: 0, 225: 0, 226: 0, 227: 0, 228: 0, 229: 0, 230: 0, 231: 0, 232: 0, 233: 0, 234: 0, 235: 0, 236: 0, 237: 0, 238: 0, 239: 0, 240: 0, 241: 0, 242: 0, 243: 0, 244: 0, 245: 0, 246: 0, 247: 0, 248: 0, 249: 0, 250: 0, 251: 0, 252: 0, 253: 0, 254: 0, 255: 0, 256: 0, 257: 0, 258: 0, 259: 0, 260: 0, 261: 0, 262: 0, 263: 0, 264: 0, 265: 0, 266: 0, 267: 0, 268: 0, 269: 0, 270: 0, 271: 0, 272: 0, 273: 0, 274: 0, 275: 0, 276: 0, 277: 0, 278: 0, 279: 0, 280: 0, 281: 0, 282: 0, 283: 0, 284: 0, 285: 0, 286: 0, 287: 0, 288: 0, 289: 0, 290: 0, 291: 0, 292: 0, 293: 0, 294: 0, 295: 0, 296: 0, 297: 0, 298: 0, 299: 0, 300: 0, 301: 0, 302: 0, 303: 0, 304: 0, 305: 0, 306: 0, 307: 0, 308: 0, 309: 0, 310: 0, 311: 0, 312: 0, 313: 0, 314: 0, 315: 0, 316: 0, 317: 0, 318: 0, 319: 0, 320: 0, 321: 0, 322: 0, 323: 0, 324: 0, 325: 0, 326: 0, 327: 0, 328: 0, 329: 0, 330: 0, 331: 0, 332: 0, 333: 0, 334: 0, 335: 0, 336: 0, 337: 0, 338: 0, 339: 0, 340: 0, 341: 0, 342: 0, 343: 0, 344: 0, 345: 0, 346: 0, 347: 0, 348: 0, 349: 0, 350: 0, 351: 0, 352: 0, 353: 0, 354: 0, 355: 0, 356: 0, 357: 0, 358: 0, 359: 0, 360: 0, 361: 0, 362: 0, 363: 0, 364: 0, 365: 0, 366: 0, 367: 0, 368: 0, 369: 0, 370: 0, 371: 0, 372: 0, 373: 0, 374: 0, 375: 0, 376: 0, 377: 0, 378: 0, 379: 0, 380: 0, 381: 0, 382: 0, 383: 0, 384: 0, 385: 0, 386: 0, 387: 0, 388: 0, 389: 0, 390: 0, 391: 0, 392: 0, 393: 0, 394: 0, 395: 0, 396: 0, 397: 0, 398: 0, 399: 0, 400: 0, 401: 0, 402: 0, 403: 0, 404: 0, 405: 0, 406: 0, 407: 0, 408: 0, 409: 0, 410: 0, 411: 0, 412: 0, 413: 0, 414: 0, 415: 0, 416: 0, 417: 0, 418: 0, 419: 0, 420: 0, 421: 0, 422: 0, 423: 0, 424: 0, 425: 0, 426: 0, 427: 0, 428: 0, 429: 0, 430: 0, 431: 0, 432: 0, 433: 0, 434: 0, 435: 0, 454: 0, 455: 0, 456: 0, 457: 0, 458: 0, 459: 0, 460: 0, 461: 0, 462: 0, 463: 0, 464: 0, 465: 0, 466: 0, 467: 0, 468: 0, 469: 0, 470: 0, 471: 0, 472: 0, 473: 0, 474: 0, 475: 0, 476: 0, 477: 0, 478: 0, 479: 0, 480: 0, 481: 0, 482: 0, 483: 0, 484: 0, 485: 0, 486: 0, 487: 0, 488: 0, 489: 0, 490: 0, 491: 0, 492: 0, 493: 0, 494: 0, 495: 0, 496: 0, 497: 0, 498: 0, 499: 0, 500: 0, 501: 0, 502: 0, 503: 0, 504: 0, 505: 0, 506: 0, 507: 0, 508: 0, 509: 0, 511: 0, 512: 0, 513: 0, 514: 0, 515: 0, 516: 0, 517: 0, 518: 0, 519: 0, 520: 0, 521: 0, 522: 0, 523: 0, 524: 0, 525: 0, 526: 0, 2: 0, 8: 0, 28: 0, 436: 1, 448: 1, 449: 1, 450: 1, 451: 1, 452: 1, 453: 1, 437: 1, 438: 1, 439: 1, 440: 1, 441: 1, 442: 1, 443: 1, 444: 1, 445: 1, 446: 1, 447: 1}\n",
            "{0, 1, 2, 3, 4, 5, 6, 7, 8, 9, 10, 11, 12, 13, 14, 15, 16, 17, 18, 19, 20, 21, 22, 23, 24, 25, 26, 27, 28, 29, 30, 31, 32, 33, 34, 35, 36, 37, 38, 39, 40, 41, 42, 43, 44, 45, 46, 47, 48, 49, 50, 51, 52, 53, 54, 55, 56, 57, 58, 59, 60, 61, 62, 63, 64, 65, 66, 67, 68, 69, 70, 71, 72, 73, 74, 75, 76, 77, 78, 79, 80, 81, 82, 83, 84, 85, 86, 87, 88, 89, 90, 91, 92, 93, 94, 95, 96, 97, 98, 99, 100, 101, 102, 103, 104, 105, 106, 107, 108, 109, 110, 111, 112, 113, 114, 115, 116, 117, 118, 119, 120, 121, 122, 123, 124, 125, 126, 127, 128, 129, 130, 131, 132, 133, 134, 135, 136, 137, 138, 139, 140, 141, 142, 143, 144, 145, 146, 147, 148, 149, 150, 151, 152, 153, 154, 155, 156, 157, 158, 159, 160, 161, 162, 163, 164, 165, 166, 167, 168, 169, 170, 171, 172, 173, 174, 175, 176, 177, 178, 179, 180, 181, 182, 183, 184, 185, 186, 188, 189, 190, 191, 192, 193, 194, 195, 196, 197, 198, 199, 200, 202, 203, 204, 205, 206, 207, 208, 209, 210, 211, 212, 213, 214, 215, 216, 217, 218, 219, 220, 221, 222, 223, 224, 225, 226, 227, 228, 229, 230, 231, 232, 233, 234, 235, 236, 237, 238, 239, 240, 241, 242, 243, 244, 245, 246, 247, 248, 249, 250, 251, 252, 253, 254, 255, 256, 257, 258, 259, 260, 261, 262, 263, 264, 265, 266, 267, 268, 269, 270, 271, 272, 273, 274, 275, 276, 277, 278, 279, 280, 281, 282, 283, 284, 285, 286, 287, 288, 289, 290, 291, 292, 294, 295, 296, 297, 298, 299, 300, 301, 302, 303, 304, 305, 306, 307, 308, 309, 310, 311, 312, 313, 314, 315, 316, 317, 318, 319, 320, 321, 322, 323, 324, 325, 326, 327, 328, 329, 330, 331, 332, 333, 334, 335, 336, 337, 338, 339, 340, 341, 342, 343, 344, 345, 346, 347, 348, 349, 350, 351, 352, 353, 354, 355, 356, 357, 358, 359, 360, 361, 362, 363, 364, 365, 366, 367, 368, 369, 370, 371, 372, 373, 374, 375, 376, 377, 378, 379, 380, 381, 382, 383, 385, 386, 387, 388, 389, 390, 391, 392, 393, 394, 395, 396, 397, 398, 399, 400, 401, 402, 403, 404, 405, 406, 407, 408, 409, 410, 411, 412, 413, 414, 415, 416, 417, 418, 419, 420, 421, 422, 423, 424, 425, 426, 427, 428, 429, 430, 431, 432, 433, 434, 435, 436, 437, 438, 439, 440, 441, 442, 443, 444, 445, 446, 447, 448, 449, 450, 451, 452, 453, 454, 455, 456, 457, 458, 459, 460, 461, 462, 463, 464, 465, 466, 467, 468, 469, 470, 471, 472, 473, 474, 475, 476, 477, 478, 479, 480, 481, 482, 483, 484, 485, 486, 487, 488, 489, 490, 491, 492, 493, 494, 495, 496, 497, 498, 499, 500, 501, 502, 503, 504, 505, 506, 507, 508, 509, 511, 512, 513, 514, 515, 516, 517, 518, 519, 520, 521, 522, 523, 524, 525, 526}\n"
          ]
        }
      ]
    },
    {
      "cell_type": "code",
      "source": [
        "def create_class(labels, class_id, X):\n",
        "  class_elements = []\n",
        "  for element_index, label in labels.items():\n",
        "    if label == class_id:\n",
        "      class_elements.append (X[element_index])\n",
        "\n",
        "  return class_elements"
      ],
      "metadata": {
        "id": "dkClh4cI7RhB"
      },
      "execution_count": 10,
      "outputs": []
    },
    {
      "cell_type": "code",
      "source": [
        "class1 = create_class(assignment, 0, df)\n",
        "class2 = create_class(assignment, 1, df)\n",
        "# class3 = create_class(assignment, 2, df)\n",
        "\n",
        "plt.clf()\n",
        "plt.scatter(np.array(class1)[:,0] , np.array(class1)[:,2] , color = 'red')\n",
        "plt.scatter(np.array(class2)[:,0] , np.array(class2)[:,2] , color = 'black')\n",
        "# plt.scatter(np.array(class3)[:,0] , np.array(class3)[:,2] , color = 'yellow')\n",
        "plt.show()\n",
        "\n",
        "plt.clf()\n",
        "plt.scatter(np.array(class1)[:,3] , np.array(class1)[:,4] , color = 'red')\n",
        "plt.scatter(np.array(class2)[:,3] , np.array(class2)[:,4] , color = 'black')\n",
        "# plt.scatter(np.array(class3)[:,5] , np.array(class3)[:,4] , color = 'yellow')\n",
        "plt.show()"
      ],
      "metadata": {
        "id": "ZoMopMkM5_gU",
        "colab": {
          "base_uri": "https://localhost:8080/",
          "height": 513
        },
        "outputId": "d88b1191-614f-4f67-90c9-c4eff231baf6"
      },
      "execution_count": 11,
      "outputs": [
        {
          "output_type": "display_data",
          "data": {
            "text/plain": [
              "<Figure size 432x288 with 1 Axes>"
            ],
            "image/png": "[encoded data removed]"
          },
          "metadata": {
            "needs_background": "light"
          }
        },
        {
          "output_type": "display_data",
          "data": {
            "text/plain": [
              "<Figure size 432x288 with 1 Axes>"
            ],
            "image/png": "[encoded data removed]"
          },
          "metadata": {
            "needs_background": "light"
          }
        }
      ]
    }
  ]
}